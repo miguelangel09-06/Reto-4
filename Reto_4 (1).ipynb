{
  "nbformat": 4,
  "nbformat_minor": 0,
  "metadata": {
    "colab": {
      "provenance": []
    },
    "kernelspec": {
      "name": "python3",
      "display_name": "Python 3"
    },
    "language_info": {
      "name": "python"
    }
  },
  "cells": [
    {
      "cell_type": "markdown",
      "source": [
        "\n",
        "\n",
        "```\n",
        "# A continuacion se presenta el reto 4 acerca de condicionales y sus 8 puntos:\n",
        "```\n",
        "\n"
      ],
      "metadata": {
        "id": "Ijvp58sNnmLM"
      }
    },
    {
      "cell_type": "code",
      "execution_count": null,
      "metadata": {
        "colab": {
          "base_uri": "https://localhost:8080/"
        },
        "id": "IWG0E-NPwAng",
        "outputId": "8990e7c0-fb5d-4095-f160-abc1761f88cd"
      },
      "outputs": [
        {
          "output_type": "stream",
          "name": "stdout",
          "text": [
            "Ingrese un numero entero por favor= 101\n",
            "El numero 101 si corresponde a una vocal minuscula y es:e\n"
          ]
        }
      ],
      "source": [
        "#1\n",
        "numero= int(input(\"Ingrese un numero entero por favor= \"))\n",
        "if numero in [97, 101, 105, 111, 117]:\n",
        "    letra= str(chr(numero))\n",
        "    print(\"El numero \" +str(numero)+ \" si corresponde a una vocal minuscula y es:\"+letra)\n",
        "else:\n",
        "    print(\"El numero \"+str(numero)+\" no corresponde a una vocal minúscula.\")"
      ]
    },
    {
      "cell_type": "code",
      "source": [
        "#2\n",
        "num_corresp=int\n",
        "Letra1= str(input(\"Ingrese una letra por favor =\"))\n",
        "num_corresp= ord(Letra1)\n",
        "if num_corresp%2==0:\n",
        "   print(\"El numero del codigo ASCII de la letra \"+ Letra1 + \" es par\")\n",
        "else:\n",
        "   print(\"El numero del codigo ASCII de la letra \"+ Letra1 + \" no es par\")\n",
        "\n",
        "print(\"El numero del codigo ASCII de la letra \"+ Letra1 + \" es \"+ str(num_corresp))"
      ],
      "metadata": {
        "id": "R93kP3rMwI5F",
        "colab": {
          "base_uri": "https://localhost:8080/"
        },
        "outputId": "f3593b82-17ad-4e57-98f9-f4475d220185"
      },
      "execution_count": null,
      "outputs": [
        {
          "output_type": "stream",
          "name": "stdout",
          "text": [
            "Ingrese una letra por favor =d\n",
            "El numero del codigo ASCII de la letra d es par\n",
            "El numero del codigo ASCII de la letra d es 100\n"
          ]
        }
      ]
    },
    {
      "cell_type": "code",
      "source": [
        "#3\n",
        "caracter = input(\"Ingrese un carácter: \")\n",
        "\n",
        "\n",
        "if len(caracter) != 1:\n",
        "    print(\"Por favor, ingrese un único carácter.\")\n",
        "else:\n",
        "\n",
        "    ascii = ord(caracter)\n",
        "    if 48 <= ascii <= 57:\n",
        "        print(\"El carácter \"+caracter+ \" es un dígito.\")\n",
        "    else:\n",
        "        print(\"El carácter \"+caracter+ \" no es un dígito.\")"
      ],
      "metadata": {
        "colab": {
          "base_uri": "https://localhost:8080/"
        },
        "id": "uPck_xJpDOR4",
        "outputId": "7068711d-bf28-4e41-8631-42fa68d686f6"
      },
      "execution_count": null,
      "outputs": [
        {
          "output_type": "stream",
          "name": "stdout",
          "text": [
            "Ingrese un carácter: 2\n",
            "El carácter 2 es un dígito.\n"
          ]
        }
      ]
    },
    {
      "cell_type": "code",
      "source": [
        "#4\n",
        "numero_uno=float(input(\"Ingrese un número=\"))\n",
        "numero_dos=float(input(\"Ingrese otro número=\"))\n",
        "if  numero_dos ==0:\n",
        "    print(\"El cero no es un numero valido\")\n",
        "else:\n",
        "     if numero_uno%numero_dos==0:\n",
        "      print(\"El numero \"+str(numero_uno)+ \" es multiplo de \"+str(numero_dos))\n",
        "     else:\n",
        "      print(\"El numero \"+str(numero_uno)+ \" no es multiplo de \"+str(numero_dos))\n"
      ],
      "metadata": {
        "id": "AI8WVay9lMyM"
      },
      "execution_count": null,
      "outputs": []
    },
    {
      "cell_type": "code",
      "source": [
        "#5\n",
        "\n",
        "numero_unico=float(input(\"Ingrese un número por favor=\"))\n",
        "if numero_unico>0:\n",
        "    print(\"El numero \"+str(numero_unico)+\" es positivo\")\n",
        "elif numero_unico<0:\n",
        "              print(\"El numero \"+str(numero_unico)+\" es negativo\")\n",
        "\n",
        "\n",
        "\n",
        "else:\n",
        "        print(\"El numero \"+str(numero_unico)+\" es el neutro para la suma\")\n",
        "\n"
      ],
      "metadata": {
        "colab": {
          "base_uri": "https://localhost:8080/"
        },
        "id": "nBZr3c3HaUWD",
        "outputId": "b701e165-4ddb-470f-833f-4cdcfe06d8b9"
      },
      "execution_count": null,
      "outputs": [
        {
          "output_type": "stream",
          "name": "stdout",
          "text": [
            "Ingrese un número por favor=0\n",
            "El numero 0.0 es el neutro para la suma\n"
          ]
        }
      ]
    },
    {
      "cell_type": "code",
      "source": [
        "#6\n",
        "centro_x=float(input(\"Ingrese la coordenada x del centro del circulo=\"))\n",
        "centro_y=float(input(\"Ingrese la coordenada y del centro del circulo=\"))\n",
        "r=float(input(\"Ingrese el radio del circulo=\"))\n",
        "medida_x=float(input(\"Ingrese la coordenada x del punto=\"))\n",
        "medida_y=float(input(\"Ingrese la coordenada y del punto=\"))\n",
        "\n",
        "\n",
        "2\n",
        "dist=float(((medida_x-centro_x)**2)+((medida_y-centro_y)**2))\n",
        "## siguiendo formula de la ecucacion de la cricunferencia\n",
        "if r<=0:\n",
        "    print(\"El radio no puede ser negativo o cero\")\n",
        "\n",
        "elif dist<r:\n",
        "      print(\"El punto (\"+str(medida_x)+\",\"+str(medida_y)+\") esta dentro del circulo\")\n",
        "elif dist==r:\n",
        "       print(\"El punto (\"+str(medida_x)+\",\"+str(medida_y)+\") esta sobre el circulo\")\n",
        "elif dist>r:\n",
        "        print(\"El punto (\"+str(medida_x)+\",\"+str(medida_y)+\") esta fuera del circulo\")\n",
        "\n",
        "\n",
        "\n"
      ],
      "metadata": {
        "colab": {
          "base_uri": "https://localhost:8080/"
        },
        "id": "4dfoDZm5lQwz",
        "outputId": "4956d5fa-7227-44ef-c319-7d61b2bd9822"
      },
      "execution_count": null,
      "outputs": [
        {
          "output_type": "stream",
          "name": "stdout",
          "text": [
            "Ingrese la coordenada x del centro del circulo=0\n",
            "Ingrese la coordenada y del centro del circulo=0\n",
            "Ingrese el radio del circulo=2\n",
            "Ingrese la coordenada x del punto=0\n",
            "Ingrese la coordenada y del punto=2\n",
            "El punto (0.0,2.0) esta fuera del circulo\n"
          ]
        }
      ]
    },
    {
      "cell_type": "code",
      "source": [
        "#7\n",
        "lado_1=float(input(\"Ingrese la medida del lado 1=\"))\n",
        "lado_2=float(input(\"Ingrese la medida del lado 2=\"))\n",
        "lado_3=float(input(\"Ingrese la medida del lado 3=\"))\n",
        "if lado_1<=0 or lado_2<=0 or lado_3<=0:\n",
        "    print(\"No se puede formar un triangulo\")\n",
        "if lado_1+lado_2>lado_3 and lado_1+lado_3>lado_2 and lado_2+lado_3>lado_1:\n",
        "    print(\"Se puede formar un triangulo\")\n",
        "else:\n",
        "    print(\"No se puede formar un triangulo\")"
      ],
      "metadata": {
        "colab": {
          "base_uri": "https://localhost:8080/"
        },
        "id": "LfJSsVS6v8Qz",
        "outputId": "d4a8eeb0-e1f7-4e47-a9f6-3da5e11a03b9"
      },
      "execution_count": null,
      "outputs": [
        {
          "output_type": "stream",
          "name": "stdout",
          "text": [
            "Ingrese la medida del lado 1=2\n",
            "Ingrese la medida del lado 2=9\n",
            "Ingrese la medida del lado 3=3\n",
            "No se puede formar un triangulo\n"
          ]
        }
      ]
    },
    {
      "cell_type": "code",
      "source": [
        "#8\n",
        "pais=input(\"Ingrese el nombre de un pais de America en minuscula y sin tildes por favor=\")\n",
        "match pais:\n",
        "    case \"argentina\":\n",
        "        print(\"Buenos Aires\")\n",
        "    case \"bolivia\":\n",
        "        print(\"La Paz y Sucre\")\n",
        "    case \"brasil\" | \"brasilia\":\n",
        "        print(\"Brasilia\")\n",
        "    case \"chile\":\n",
        "        print(\"Santiago de Chile\")\n",
        "    case \"colombia\":\n",
        "        print(\"Bogotá\")\n",
        "    case \"ecuador\":\n",
        "        print(\"Quito\")\n",
        "    case \"paraguay\":\n",
        "        print(\"Asunción\")\n",
        "    case \"peru\" | \"perú\":\n",
        "        print(\"Lima\")\n",
        "    case \"uruguay\":\n",
        "        print(\"Montevideo\")\n",
        "    case \"venezuela\":\n",
        "        print(\"Caracas\")\n",
        "    case \"antigua y barbuda\":\n",
        "        print(\"Saint John's\")\n",
        "    case \"bahamas\":\n",
        "        print(\"Nassau\")\n",
        "    case \"barbados\":\n",
        "        print(\"Bridgetown\")\n",
        "    case \"cuba\":\n",
        "        print(\"La Habana\")\n",
        "    case \"dominica\":\n",
        "        print(\"Roseau\")\n",
        "    case \"republica dominicana\" | \"república dominicana\":\n",
        "        print(\"Santo Domingo\")\n",
        "    case \"granada\":\n",
        "        print(\"Saint George's\")\n",
        "    case \"haiti\" | \"haití\":\n",
        "        print(\"Puerto Príncipe\")\n",
        "    case \"jamaica\":\n",
        "        print(\"Kingston\")\n",
        "    case \"san cristobal y nieves\" | \"saint kitts y nevis\":\n",
        "        print(\"Basseterre\")\n",
        "    case \"san vicente y las granadinas\":\n",
        "        print(\"Kingstown\")\n",
        "    case \"santa lucia\" | \"santa lucía\":\n",
        "        print(\"Castries\")\n",
        "    case \"trinidad y tobago\":\n",
        "        print(\"Puerto España\")\n",
        "    case \"belice\":\n",
        "        print(\"Belmopán\")\n",
        "    case \"costa rica\":\n",
        "        print(\"San José\")\n",
        "    case \"el salvador\":\n",
        "        print(\"San Salvador\")\n",
        "    case \"guatemala\":\n",
        "        print(\"Ciudad de Guatemala\")\n",
        "    case \"honduras\":\n",
        "        print(\"Tegucigalpa\")\n",
        "    case \"nicaragua\":\n",
        "        print(\"Managua\")\n",
        "    case \"panama\" | \"panamá\":\n",
        "        print(\"Ciudad de Panamá\")\n",
        "    case \"canada\":\n",
        "        print(\"Ottawa\")\n",
        "    case \"estados unidos\" | \"ee.uu.\" | \"usa\":\n",
        "        print(\"Washington D.C.\")\n",
        "    case \"mexico\" | \"méxico\":\n",
        "        print(\"Ciudad de México\")\n",
        "    case _:\n",
        "        print(\"País no reconocido o no pertenece a América.\")"
      ],
      "metadata": {
        "id": "M3ey13G2z_g6",
        "colab": {
          "base_uri": "https://localhost:8080/"
        },
        "outputId": "22ff9c85-a880-49be-c06c-9f66227154fe"
      },
      "execution_count": null,
      "outputs": [
        {
          "output_type": "stream",
          "name": "stdout",
          "text": [
            "Ingrese el nombre de un pais de America en minuscula y sin tildes por favor=uruguay\n",
            "Montevideo\n"
          ]
        }
      ]
    }
  ]
}